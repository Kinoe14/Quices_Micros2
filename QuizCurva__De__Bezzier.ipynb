{
  "nbformat": 4,
  "nbformat_minor": 0,
  "metadata": {
    "colab": {
      "provenance": []
    },
    "kernelspec": {
      "name": "python3",
      "display_name": "Python 3"
    },
    "language_info": {
      "name": "python"
    }
  },
  "cells": [
    {
      "cell_type": "markdown",
      "source": [
        "### Este código me tocó corregirlo por completo, ya que, mi propuesta de solución contenía bastantes errores. En primer lugar defino un bloque que me mostrará gráficamente la curva de Bezier."
      ],
      "metadata": {
        "id": "LXB0vhs4IhZ6"
      }
    },
    {
      "cell_type": "code",
      "source": [
        "import matplotlib.pyplot as plt       #Uso solo para graficar\n",
        "Cx1_list = []       #Uso solo para graficar\n",
        "Cy1_list = []\n",
        "Cx2_list = []\n",
        "Cy2_list = []"
      ],
      "metadata": {
        "id": "W_7S3dBo-med"
      },
      "execution_count": 26,
      "outputs": []
    },
    {
      "cell_type": "markdown",
      "source": [
        "### Este código calcula las velocidades de dos motores necesarios para seguir una curva de Bézier cúbica en un número de pasos definidos (t). Calcula las posiciones intermedias en la curva y determina las velocidades lineales y angulares necesarias para mover los motores de manera que sigan la trayectoria planificada. Finalmente, imprime las velocidades de los motores en cada paso."
      ],
      "metadata": {
        "id": "bvLfgfUEIyiu"
      }
    },
    {
      "cell_type": "code",
      "source": [
        "import math\n",
        "p0=[1,0]\n",
        "p1=[1,-2]\n",
        "p2=[6,3]\n",
        "p3=[3,3]\n",
        "Lista=[]       #Almacenar las velocidades del motor\n",
        "b=2       #Distancia del motor al centro de gravedad\n",
        "T=5       #Tiempo de llegar de un punto a otro\n",
        "r=1       #Radio de las ruedas\n",
        "t=5       #Cantidad de pasos\n",
        "for i in range(t):       #ERROR DE NO PONER LOS PARENTESIS\n",
        "\n",
        "  Lista2=[]       #Lista que conformara los elementos de una lista de listas\n",
        "\n",
        "  m1=i/t       #Define la curva de bezier de 0 a 1\n",
        "  z1=(1-m1)\n",
        "\n",
        "  Cx1=z1*z1*z1*p0[0]+3*z1*z1*m1*p1[0]+3*z1*m1*m1*p2[0]+m1*m1*m1*p3[0]\n",
        "  Cy1=z1*z1*z1*p0[1]+3*z1*z1*m1*p1[1]+3*z1*m1*m1*p2[1]+m1*m1*m1*p3[1]\n",
        "\n",
        "  Cx1_list.append(Cx1)       #Uso solo para graficar\n",
        "  Cy1_list.append(Cy1)       #Uso solo para graficar\n",
        "\n",
        "  m2=(i+1)/t\n",
        "  z2=(1-m2)\n",
        "\n",
        "  Cx2=z2*z2*z2*p0[0]+3*z2*z2*m2*p1[0]+3*z2*m2*m2*p2[0]+m2*m2*m2*p3[0]\n",
        "  Cy2=z2*z2*z2*p0[1]+3*z2*z2*m2*p1[1]+3*z2*m2*m2*p2[1]+m2*m2*m2*p3[1]\n",
        "\n",
        "  Cx2_list.append(Cx2)       #Uso solo para graficar\n",
        "  Cy2_list.append(Cy2)       #Uso solo para graficar\n",
        "\n",
        "  Gama1=math.atan2(Cy1,Cx1)\n",
        "  Gama2=math.atan2(Cy2,Cx2)\n",
        "\n",
        "  DTau1=(T/t)*i\n",
        "  DTau2=(T/t)*(i+1)\n",
        "  DTauTotal=DTau2-DTau1\n",
        "\n",
        "  Ux=Cx2-Cx1\n",
        "  Uy=Cy2-Cy1\n",
        "  E=math.sqrt(Ux*Ux+Uy*Uy)\n",
        "  V=E/DTauTotal\n",
        "\n",
        "  wi=(Gama2-Gama1)/DTauTotal\n",
        "\n",
        "  MotorD=(1/r)*(V+b*wi)\n",
        "  MotorI=(1/r)*(V-b*wi)\n",
        "\n",
        "  #Necesitaba añadir uno por uno si fuera una lista adicional\n",
        "  Lista2.append(MotorD)\n",
        "  Lista2.append(MotorI)\n",
        "\n",
        "  VELOCIDADES=(MotorD,MotorI)       #Sugerencia del profesor\n",
        "\n",
        "  Lista.append(VELOCIDADES)\n",
        "  #Lista.append(Lista2)       #SI QUISIERA HACER UNA LISTA DE LISTAS\n",
        "\n",
        "print(Lista)"
      ],
      "metadata": {
        "colab": {
          "base_uri": "https://localhost:8080/"
        },
        "id": "s-Anhf9a8W1s",
        "outputId": "b7e6031f-7a44-4657-d710-8f589daa447f"
      },
      "execution_count": 27,
      "outputs": [
        {
          "output_type": "stream",
          "name": "stdout",
          "text": [
            "[(0.08202686297890693, 1.2654923391106225), (1.9936201776097413, 0.5116446786479745), (2.1378611165496584, 0.9808257866196883), (1.582336679260815, 0.7809559391002718), (1.5124510308649008, 0.6277844701956719)]\n"
          ]
        }
      ]
    },
    {
      "cell_type": "markdown",
      "source": [
        "### Acá mostramos gráficamente el resultado de Bezier"
      ],
      "metadata": {
        "id": "mH8kk17YJEPz"
      }
    },
    {
      "cell_type": "code",
      "source": [
        "plt.plot(Cx1_list, Cy1_list, label='Cx1, Cy1')\n",
        "plt.plot(Cx2_list, Cy2_list, label='Cx2, Cy2')\n",
        "plt.xlabel('X')\n",
        "plt.ylabel('Y')\n",
        "plt.title('Gráficas de Cx1, Cy1 y Cx2, Cy2')\n",
        "plt.legend()\n",
        "plt.grid(True)\n",
        "plt.show()\n"
      ],
      "metadata": {
        "colab": {
          "base_uri": "https://localhost:8080/",
          "height": 472
        },
        "id": "dJHh1Jqq_DqM",
        "outputId": "60844269-2b2f-4235-b439-579769a6ed44"
      },
      "execution_count": 28,
      "outputs": [
        {
          "output_type": "display_data",
          "data": {
            "text/plain": [
              "<Figure size 640x480 with 1 Axes>"
            ],
            "image/png": "[encoded data removed]"
          },
          "metadata": {}
        }
      ]
    },
    {
      "cell_type": "markdown",
      "source": [
        "### Acá se realiza mediante el uso de una definición de la función Bezzier\n"
      ],
      "metadata": {
        "id": "2UKMWRy-IYR5"
      }
    },
    {
      "cell_type": "code",
      "source": [
        "import math\n",
        "\n",
        "def Bezzier(p0=[1,0],p1=[1,-2],p2=[6,3],p3=[3,3],b=2,T=5,r=1,t=5):\n",
        "\n",
        "  Lista=[]\n",
        "  for i in range(t):\n",
        "    Lista2=[]\n",
        "    m1=i/t       #Define la curva de bezier de 0 a 1\n",
        "    z1=(1-m1)\n",
        "\n",
        "    Cx1=z1*z1*z1*p0[0]+3*z1*z1*m1*p1[0]+3*z1*m1*m1*p2[0]+m1*m1*m1*p3[0]\n",
        "    Cy1=z1*z1*z1*p0[1]+3*z1*z1*m1*p1[1]+3*z1*m1*m1*p2[1]+m1*m1*m1*p3[1]\n",
        "\n",
        "    m2=(i+1)/t\n",
        "    z2=(1-m2)\n",
        "\n",
        "    Cx2=z2*z2*z2*p0[0]+3*z2*z2*m2*p1[0]+3*z2*m2*m2*p2[0]+m2*m2*m2*p3[0]\n",
        "    Cy2=z2*z2*z2*p0[1]+3*z2*z2*m2*p1[1]+3*z2*m2*m2*p2[1]+m2*m2*m2*p3[1]\n",
        "\n",
        "    Gama1=math.atan2(Cy1,Cx1)\n",
        "    Gama2=math.atan2(Cy2,Cx2)\n",
        "\n",
        "    DTau1=(T/t)*i\n",
        "    DTau2=(T/t)*(i+1)\n",
        "    DTauTotal=DTau2-DTau1\n",
        "\n",
        "    Ux=Cx2-Cx1\n",
        "    Uy=Cy2-Cy1\n",
        "    E=math.sqrt(Ux*Ux+Uy*Uy)\n",
        "    V=E/DTauTotal\n",
        "\n",
        "    wi=(Gama2-Gama1)/DTauTotal\n",
        "\n",
        "    MotorD=(1/r)*(V+b*wi)\n",
        "    MotorI=(1/r)*(V-b*wi)\n",
        "\n",
        "    VELOCIDADES=(MotorD,MotorI)       #Sugerencia del profesor\n",
        "\n",
        "    Lista.append(VELOCIDADES)\n",
        "\n",
        "  return Lista\n",
        "\n",
        "resultado = Bezzier()\n",
        "print(resultado)"
      ],
      "metadata": {
        "colab": {
          "base_uri": "https://localhost:8080/"
        },
        "id": "QmScZR6QHB0S",
        "outputId": "15922d0d-43c2-4690-ae8c-e474d55f5cb7"
      },
      "execution_count": 29,
      "outputs": [
        {
          "output_type": "stream",
          "name": "stdout",
          "text": [
            "[(0.08202686297890693, 1.2654923391106225), (1.9936201776097413, 0.5116446786479745), (2.1378611165496584, 0.9808257866196883), (1.582336679260815, 0.7809559391002718), (1.5124510308649008, 0.6277844701956719)]\n"
          ]
        }
      ]
    }
  ]
}