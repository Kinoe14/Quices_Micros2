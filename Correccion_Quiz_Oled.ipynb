{
  "nbformat": 4,
  "nbformat_minor": 0,
  "metadata": {
    "colab": {
      "provenance": []
    },
    "kernelspec": {
      "name": "python3",
      "display_name": "Python 3"
    },
    "language_info": {
      "name": "python"
    }
  },
  "cells": [
    {
      "cell_type": "markdown",
      "source": [
        "### En esta rutina se termina de complementar la función que transpone la lista horizonrtal de la oled a la lista vertical"
      ],
      "metadata": {
        "id": "7BBZIhCeKQB_"
      }
    },
    {
      "cell_type": "code",
      "execution_count": 7,
      "metadata": {
        "colab": {
          "base_uri": "https://localhost:8080/"
        },
        "id": "NT2hYyRuEb6k",
        "outputId": "9284fc55-5893-470e-c238-6d86b21985e5"
      },
      "outputs": [
        {
          "output_type": "stream",
          "name": "stdout",
          "text": [
            "Lista de enteros: [0, 1, 2, 3, 4, 5, 6, 7]\n",
            "Números decimales obtenidos: [0, 4, 2, 6, 1, 5, 3, 7]\n"
          ]
        }
      ],
      "source": [
        "def H_a_V(lista_enteros):\n",
        "    def entero_a_binario(numero):\n",
        "        if numero == 0:\n",
        "            return \"0\"\n",
        "        binario = \"\"\n",
        "        while numero > 0:\n",
        "            binario = str(numero % 2) + binario\n",
        "            numero = numero // 2\n",
        "        return binario\n",
        "\n",
        "    def lista_enteros_a_binarios(lista):\n",
        "        return [entero_a_binario(numero) for numero in lista]\n",
        "\n",
        "    def crear_matriz_binaria(lista_binarios):\n",
        "        max_len = max(len(binario) for binario in lista_binarios)\n",
        "        matriz = [[0] * max_len for _ in range(len(lista_binarios))]\n",
        "        for i, binario in enumerate(lista_binarios):\n",
        "            for j in range(len(binario)):\n",
        "                matriz[i][max_len - len(binario) + j] = int(binario[j])\n",
        "        return matriz\n",
        "\n",
        "    def obtener_numeros_decimales(matriz):\n",
        "        numeros_decimales = []\n",
        "        for fila in matriz:\n",
        "            cadena_bits = ''.join(str(bit) for bit in fila)\n",
        "            cadena_bits_invertida = cadena_bits[::-1]\n",
        "            numero_decimal = int(cadena_bits_invertida, 2)\n",
        "            numeros_decimales.append(numero_decimal)\n",
        "        return numeros_decimales\n",
        "\n",
        "    lista_binarios = lista_enteros_a_binarios(lista_enteros)\n",
        "    matriz_binaria = crear_matriz_binaria(lista_binarios)\n",
        "    numeros_decimales = obtener_numeros_decimales(matriz_binaria)\n",
        "\n",
        "    return numeros_decimales\n",
        "\n",
        "# Ejemplo de uso\n",
        "lista_enteros = [0, 1, 2, 3, 4, 5, 6, 7]\n",
        "numeros_decimales = H_a_V(lista_enteros)\n",
        "\n",
        "print(\"Lista de enteros:\", lista_enteros)\n",
        "print(\"Números decimales obtenidos:\", numeros_decimales)\n",
        "\n"
      ]
    },
    {
      "cell_type": "code",
      "source": [],
      "metadata": {
        "id": "bUAM1IhFKkBE"
      },
      "execution_count": null,
      "outputs": []
    }
  ]
}